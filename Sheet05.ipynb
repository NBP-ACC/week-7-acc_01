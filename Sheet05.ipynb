{
 "cells": [
  {
   "cell_type": "markdown",
   "metadata": {},
   "source": [
    "Osnabrück University - A&C: Computational Cognition (Summer Term 2019)"
   ]
  },
  {
   "cell_type": "markdown",
   "metadata": {},
   "source": [
    "# Exercise Sheet 05: Eye tracking"
   ]
  },
  {
   "cell_type": "markdown",
   "metadata": {},
   "source": [
    "## Introduction\n",
    "\n",
    "This week's sheet should be solved and handed in at 14:00 at **Tuesday, May 28, 2019**. If you need help (and Google and other resources were not enough), feel free to contact your tutors. Please push your results to your Github group folder.\n",
    "\n",
    "For this exercise sheet you will have 2 weeks and the sheet is also worth of 30 points. In this exercise sheet you will start to work with eye tracking data. Note that the data we will use here are not raw gaze data and contain coordinates of fixation points.\n",
    "\n",
    "The dataset is distributed freely by a following study: [Wilming, N. Dryad](https://www.nature.com/articles/sdata2016126#data-citations). By clicking on the link in the section \"Data Citations\" you will get redirected to the page where you can download all the data openly distributed. Read below for description of each file.\n",
    "\n",
    "##### necessary\n",
    "*etdb_v1.0*: This is the main data file. The hdf5 file consists of all the fixation data and the metadata.  \n",
    "*Read gaze data with python*: Python script to read hdf5 file as a dataframe.  \n",
    "*Stimuli/i*: Zip file containing image stimuli used in the study. The encoding convention is same as in the dataframe.\n",
    "##### optional\n",
    "*Metadata*: This is the csv file giving overview of all studies."
   ]
  },
  {
   "cell_type": "code",
   "execution_count": 1,
   "metadata": {},
   "outputs": [],
   "source": [
    "#%pip install h5py # make sure to install h5py which is used in fixmat.py"
   ]
  },
  {
   "cell_type": "code",
   "execution_count": 141,
   "metadata": {},
   "outputs": [],
   "source": [
    "import os\n",
    "import random\n",
    "import math\n",
    "import numpy as np\n",
    "import matplotlib\n",
    "import matplotlib.pyplot as plt\n",
    "import matplotlib.image as mpimg\n",
    "import seaborn as sns\n",
    "import statsmodels.api as sm\n",
    "from statsmodels.stats.anova import *\n",
    "from datas.fixmat import *\n",
    "from scipy.stats import norm\n",
    "from statsmodels.formula.api import ols\n",
    "from IPython.display import HTML as html_print"
   ]
  },
  {
   "cell_type": "markdown",
   "metadata": {},
   "source": [
    "## Assignment 0: Peer review for sheet 04 [3 pts]"
   ]
  },
  {
   "cell_type": "markdown",
   "metadata": {},
   "source": [
    "Each group reviews the solutions of two other groups and give points according to the given point distribution considering the correctness of the solution. For this reviews the tutors will give you up to 3 points each week. Follow a distributed comment guidelines if you are unsure.\n",
    "\n",
    "| * |Group 1|Group 2|Group 3|Group 4|Group 5|Group 6|Group 7|Group 8|Group 9|Group 10|Group 11|\n",
    "| ------- | ----- | ----- | ----- | ----- | ----- | ----- | ----- | ----- | ----- | ------ | ------ |\n",
    "| check solutions of group: | 5, 9 | 1, 6  | 4, 7  | 7, 2 | 2, 11 | 8, 3 | 3, 10  | 11, 1  | 10, 4  | 6, 8  | 9, 5   |\n"
   ]
  },
  {
   "cell_type": "markdown",
   "metadata": {},
   "source": [
    "## Assignment 1: Checking the data distribution [9 pts]"
   ]
  },
  {
   "cell_type": "markdown",
   "metadata": {},
   "source": [
    "### a) loading datasets [0 pts]\n",
    "As with any other datasets, the first step is to get an idea of the dataset. Check the meta data and column of the dataframe."
   ]
  },
  {
   "cell_type": "code",
   "execution_count": 3,
   "metadata": {},
   "outputs": [
    {
     "data": {
      "text/html": [
       "<div>\n",
       "<style scoped>\n",
       "    .dataframe tbody tr th:only-of-type {\n",
       "        vertical-align: middle;\n",
       "    }\n",
       "\n",
       "    .dataframe tbody tr th {\n",
       "        vertical-align: top;\n",
       "    }\n",
       "\n",
       "    .dataframe thead th {\n",
       "        text-align: right;\n",
       "    }\n",
       "</style>\n",
       "<table border=\"1\" class=\"dataframe\">\n",
       "  <thead>\n",
       "    <tr style=\"text-align: right;\">\n",
       "      <th></th>\n",
       "      <th>SUBJECTINDEX</th>\n",
       "      <th>category</th>\n",
       "      <th>dataset_nr</th>\n",
       "      <th>end</th>\n",
       "      <th>eye</th>\n",
       "      <th>filenumber</th>\n",
       "      <th>fix</th>\n",
       "      <th>pupil</th>\n",
       "      <th>start</th>\n",
       "      <th>trial</th>\n",
       "      <th>x</th>\n",
       "      <th>y</th>\n",
       "    </tr>\n",
       "  </thead>\n",
       "  <tbody>\n",
       "    <tr>\n",
       "      <th>0</th>\n",
       "      <td>1.0</td>\n",
       "      <td>11.0</td>\n",
       "      <td>3.0</td>\n",
       "      <td>215.0</td>\n",
       "      <td>2.0</td>\n",
       "      <td>25.0</td>\n",
       "      <td>1.0</td>\n",
       "      <td>3287.901123</td>\n",
       "      <td>-183.0</td>\n",
       "      <td>1.0</td>\n",
       "      <td>636.0</td>\n",
       "      <td>489.0</td>\n",
       "    </tr>\n",
       "    <tr>\n",
       "      <th>1</th>\n",
       "      <td>1.0</td>\n",
       "      <td>11.0</td>\n",
       "      <td>3.0</td>\n",
       "      <td>503.0</td>\n",
       "      <td>2.0</td>\n",
       "      <td>25.0</td>\n",
       "      <td>2.0</td>\n",
       "      <td>2872.182129</td>\n",
       "      <td>261.0</td>\n",
       "      <td>1.0</td>\n",
       "      <td>524.0</td>\n",
       "      <td>276.0</td>\n",
       "    </tr>\n",
       "    <tr>\n",
       "      <th>2</th>\n",
       "      <td>1.0</td>\n",
       "      <td>11.0</td>\n",
       "      <td>3.0</td>\n",
       "      <td>819.0</td>\n",
       "      <td>2.0</td>\n",
       "      <td>25.0</td>\n",
       "      <td>3.0</td>\n",
       "      <td>2452.396484</td>\n",
       "      <td>541.0</td>\n",
       "      <td>1.0</td>\n",
       "      <td>592.0</td>\n",
       "      <td>393.0</td>\n",
       "    </tr>\n",
       "    <tr>\n",
       "      <th>3</th>\n",
       "      <td>1.0</td>\n",
       "      <td>11.0</td>\n",
       "      <td>3.0</td>\n",
       "      <td>1103.0</td>\n",
       "      <td>2.0</td>\n",
       "      <td>25.0</td>\n",
       "      <td>4.0</td>\n",
       "      <td>2135.433594</td>\n",
       "      <td>865.0</td>\n",
       "      <td>1.0</td>\n",
       "      <td>367.0</td>\n",
       "      <td>339.0</td>\n",
       "    </tr>\n",
       "    <tr>\n",
       "      <th>4</th>\n",
       "      <td>1.0</td>\n",
       "      <td>11.0</td>\n",
       "      <td>3.0</td>\n",
       "      <td>1399.0</td>\n",
       "      <td>2.0</td>\n",
       "      <td>25.0</td>\n",
       "      <td>5.0</td>\n",
       "      <td>2007.327393</td>\n",
       "      <td>1145.0</td>\n",
       "      <td>1.0</td>\n",
       "      <td>196.0</td>\n",
       "      <td>364.0</td>\n",
       "    </tr>\n",
       "  </tbody>\n",
       "</table>\n",
       "</div>"
      ],
      "text/plain": [
       "   SUBJECTINDEX  category  dataset_nr     end  eye  filenumber  fix  \\\n",
       "0           1.0      11.0         3.0   215.0  2.0        25.0  1.0   \n",
       "1           1.0      11.0         3.0   503.0  2.0        25.0  2.0   \n",
       "2           1.0      11.0         3.0   819.0  2.0        25.0  3.0   \n",
       "3           1.0      11.0         3.0  1103.0  2.0        25.0  4.0   \n",
       "4           1.0      11.0         3.0  1399.0  2.0        25.0  5.0   \n",
       "\n",
       "         pupil   start  trial      x      y  \n",
       "0  3287.901123  -183.0    1.0  636.0  489.0  \n",
       "1  2872.182129   261.0    1.0  524.0  276.0  \n",
       "2  2452.396484   541.0    1.0  592.0  393.0  \n",
       "3  2135.433594   865.0    1.0  367.0  339.0  \n",
       "4  2007.327393  1145.0    1.0  196.0  364.0  "
      ]
     },
     "execution_count": 3,
     "metadata": {},
     "output_type": "execute_result"
    }
   ],
   "source": [
    "# use a fixmat.py to load the hdf5 format data as a panda dataframe\n",
    "PATH = os.getcwd()\n",
    "df, meta = load(PATH + '/datas/etdb_v1.0.hdf5', \"Baseline\")\n",
    "df.head()"
   ]
  },
  {
   "cell_type": "code",
   "execution_count": 4,
   "metadata": {},
   "outputs": [
    {
     "data": {
      "text/plain": [
       "{'# Fix.': 203772,\n",
       " '# Obs.': 48,\n",
       " 'Age': '23.1 (19-28)',\n",
       " 'Article': 15.0,\n",
       " 'Categories': '7,8,10,11',\n",
       " 'Disp. Size (degree)': '29x22',\n",
       " 'Display': 'SM1100',\n",
       " 'Display resolution (pixels)': '1280x960',\n",
       " 'Eye Tracker': 'EL II',\n",
       " 'ID': 3,\n",
       " 'Img. Pos. (pixel)': '0,0',\n",
       " 'Img. size (pixel)': '1280x960',\n",
       " 'PPD': 45.6,\n",
       " 'Sampling freq. (Hz)': '500 Hz',\n",
       " 'Task': 'FV',\n",
       " 'V. Dur.': '6s',\n",
       " 'V. dist. (cm) ': 80,\n",
       " 'Val. error (degrees)': 0.3}"
      ]
     },
     "execution_count": 4,
     "metadata": {},
     "output_type": "execute_result"
    }
   ],
   "source": [
    "meta"
   ]
  },
  {
   "cell_type": "code",
   "execution_count": 5,
   "metadata": {},
   "outputs": [
    {
     "data": {
      "text/plain": [
       "Index(['SUBJECTINDEX', 'category', 'dataset_nr', 'end', 'eye', 'filenumber',\n",
       "       'fix', 'pupil', 'start', 'trial', 'x', 'y'],\n",
       "      dtype='object')"
      ]
     },
     "execution_count": 5,
     "metadata": {},
     "output_type": "execute_result"
    }
   ],
   "source": [
    "df.columns"
   ]
  },
  {
   "cell_type": "code",
   "execution_count": 6,
   "metadata": {},
   "outputs": [],
   "source": [
    "# trials are named the same for different subjects; for the sake of\n",
    "# an easier data-handling I add a column to the dataframe with a unique\n",
    "# code for each trial over all subjects: SUBJECTINDEX-trial\n",
    "\n",
    "df['sub_trial'] = df['SUBJECTINDEX'] * 10000 + df['trial']"
   ]
  },
  {
   "cell_type": "markdown",
   "metadata": {},
   "source": [
    "### b) data cleaning [3 pts]\n",
    "We want to clean the dataframe so that it is handy for us to work with it.\n",
    "- How many fixations do we have per category? ```agg``` function might be helpful.\n",
    "- categories are encoded using a number. Add a column to the dataframe that has approporiate string value for that category (e.g. code 11.0 to \"Pink-noise\"). The category names can be found on Figure 2 of the paper.\n",
    "- since measurements lasted for 6 seconds, any fixation points that have a onset time before 0 sec and end time more than 6 sec are erroneous. Remove these rows.\n",
    "- also remove all rows with any NaN values.\n",
    "- add a column called ```duration``` and compute the duration of each fixation.\n",
    "- It is known from previous literature that fixations typically last between 100 msec to 400 msec. Remove all rows with unrealistic  fixation duration.\n",
    "- check how many data points got removed for each category. Let's hope that we didn't delete too many rows from a single category.\n",
    "- count the number of fixations for each trial. To do this, you can use the aggregate method to count the number of rows for each category.\n",
    "- print the mean duration and the mean number of fixation across all trials. Are they in a realistic range?"
   ]
  },
  {
   "cell_type": "code",
   "execution_count": 7,
   "metadata": {},
   "outputs": [
    {
     "name": "stdout",
     "output_type": "stream",
     "text": [
      "The number of fixation points per category: \n",
      "\n",
      "category\n",
      "7.0     52338\n",
      "8.0     56680\n",
      "10.0    52901\n",
      "11.0    41853\n",
      "Name: fix, dtype: int64 \n",
      "\n",
      "\n",
      "\n",
      "Removed data points per category:\n",
      "\n",
      "14603 data points were removed from the \"Pink-noise\" category (35%)\n",
      "11835 data points were removed from the \"Urban\" category (21%)\n",
      "12554 data points were removed from the \"Natural\" category (24%)\n",
      "12979 data points were removed from the \"Fractals\" category (25%)\n",
      "\n",
      "\n",
      "\n",
      "The number of fixation points per sub-image/-trial for each subject:\n",
      "\n",
      "sub_trial\n",
      "10001.0    15\n",
      "10002.0    22\n",
      "10003.0    15\n",
      "10004.0    17\n",
      "10005.0    17\n",
      "Name: fix, dtype: int64\n",
      "\n",
      "\n",
      "The mean duration over all trials: 240.49\n",
      "The mean number of fixation points over all trials: 12.55\n"
     ]
    }
   ],
   "source": [
    "# count the number of fixations for each category\n",
    "print('The number of fixation points per category: \\n')\n",
    "fix_per_cat = df.groupby(['category']).fix.agg('count')\n",
    "print(fix_per_cat, '\\n\\n')\n",
    "\n",
    "# add a new column with categories labels\n",
    "df['category_str'] = np.where(df['category'] == 7, 'Natural',\n",
    "                    (np.where(df['category'] == 8, 'Urban',\n",
    "                    (np.where(df['category'] == 10, 'Fractals', 'Pink-noise')))))\n",
    "\n",
    "# remove the erroneous entries with negative onset and bigger than 6000ms end time\n",
    "df_clean = df[(df.start >= 0) & (df.end <= 6000)].dropna()\n",
    "\n",
    "# add the new column, duration, for the length of each experiment\n",
    "df_clean['duration'] = df_clean['end'] - df_clean['start']\n",
    "\n",
    "# remove the 'unrealistic' fixation durations\n",
    "df_clean = df_clean[(df_clean.duration >= 100) & (df_clean.duration <= 400)]\n",
    "\n",
    "# calculate and print out the number of removed data points from each category\n",
    "print('\\nRemoved data points per category:\\n')\n",
    "for category in df['category_str'].unique():\n",
    "    \n",
    "    # the number of data points in the category before data cleaning\n",
    "    before = len(df[(df.category_str == category)])\n",
    "    # the number of data points in the category after data cleaning\n",
    "    after = len(df_clean[(df_clean.category_str == category)])\n",
    "    # calculate the removal percentage\n",
    "    pctg = (before - after) / before\n",
    "    \n",
    "    print('{} data points were removed from the \"{}\" category ({:.0%})'.format(before - after, category, pctg))\n",
    "\n",
    "\n",
    "# count the number of fixations for each subject per trial\n",
    "fix_per_trial = df_clean.groupby(['sub_trial']).fix.count()\n",
    "print('\\n\\n\\nThe number of fixation points per sub-image/-trial for each subject:\\n')\n",
    "print(fix_per_trial.head())\n",
    "\n",
    "\n",
    "# calculate and print the mean duration and mean number of fixations across all trials\n",
    "mean_dur = np.round(df_clean.duration.mean(), 2)\n",
    "mean_fix = np.round(df_clean.groupby(['sub_trial']).trial.count().mean(), 2)\n",
    "print('\\n\\nThe mean duration over all trials:', mean_dur)\n",
    "print('The mean number of fixation points over all trials:', mean_fix)"
   ]
  },
  {
   "cell_type": "markdown",
   "metadata": {},
   "source": [
    "### c) visualizing data distribution [3 pts]\n",
    "Are there any inter-subject difference and effect of different category in our data?\n",
    "- plot the mean duration for each category (4 x-values) and the mean duration for each subject (48 x-values).\n",
    "\n",
    "- plot the mean number of fixations for each category (4 x-values) and the mean number of fixation for each subject (48 x-values)."
   ]
  },
  {
   "cell_type": "code",
   "execution_count": 139,
   "metadata": {},
   "outputs": [
    {
     "data": {
      "image/png": "[encoded data removed]",
      "text/plain": [
       "<Figure size 936x720 with 4 Axes>"
      ]
     },
     "metadata": {},
     "output_type": "display_data"
    }
   ],
   "source": [
    "# make 4 subplots and a title\n",
    "figs, axes = plt.subplots(nrows=2, ncols=2, figsize=(13,10))\n",
    "figs.suptitle('Visualization the Distributionsof Data', fontsize=20)\n",
    "\n",
    "# upper left plot\n",
    "# calculate mean duration for each category\n",
    "avg_dur_cat = df_clean.groupby(['category_str'], as_index=False).duration.mean()\n",
    "# and its bar plot\n",
    "sns.barplot(data=avg_dur_cat, x='category_str', y='duration',\n",
    "               ax=axes[0,0], color='lightslategray')\n",
    "\n",
    "# upper right plot\n",
    "# calculate mean duration for each subject\n",
    "avg_dur_sub = df_clean.groupby(['SUBJECTINDEX'], as_index=False).duration.mean()\n",
    "# and its bar plot\n",
    "sns.barplot(data=avg_dur_sub, x='SUBJECTINDEX', y='duration',\n",
    "               ax=axes[0,1], color='lightslategray')\n",
    "\n",
    "# lower left plot\n",
    "# calculate mean number of fixations for images in each category\n",
    "avg_fix_cat = df_clean.groupby(['category_str', 'sub_trial'],\n",
    "                               as_index=False).trial.count()\n",
    "# and its bar plot\n",
    "sns.barplot(data=avg_fix_cat, x='category_str', y='trial',\n",
    "               ax=axes[1,0], color='lightslategray', ci=None)\n",
    "\n",
    "# lower right plot\n",
    "# calculate mean number of fixations for images for each subject\n",
    "avg_fix_sub = df_clean.groupby(['SUBJECTINDEX'], as_index=False).trial.count()\n",
    "# and its bar plot\n",
    "sns.barplot(data=avg_fix_sub, x='SUBJECTINDEX', y='trial',\n",
    "               ax=axes[1,1], color='lightslategray')\n",
    "\n",
    "\n",
    "\n",
    "# set the labels and tickbars\n",
    "axes[0,0].set_xlabel('')\n",
    "axes[0,0].set_ylabel('Avg Fixation Duration (ms)', fontsize=12)\n",
    "axes[0,1].set_xlabel('')\n",
    "axes[0,1].set_ylabel('')\n",
    "axes[0,1].set_xticklabels(np.arange(0,49,10))\n",
    "axes[0,1].set_xticks(axes[0,1].get_xticks()[0:49:10])\n",
    "axes[1,0].set_xlabel('Category', fontsize=12)\n",
    "axes[1,0].set_ylabel('Avg Fixation Points (#)', fontsize=12)\n",
    "axes[1,1].set_xlabel('Subjects', fontsize=12)\n",
    "axes[1,1].set_ylabel('')\n",
    "axes[1,1].set_xticklabels(np.arange(0,49,10))\n",
    "axes[1,1].set_xticks(axes[1,1].get_xticks()[0:49:10]);"
   ]
  },
  {
   "cell_type": "markdown",
   "metadata": {},
   "source": [
    "### d) normally distributed data [3 pts]\n",
    "As ANOVA and lots of other statistical tests can be used only for normally distributed varaibles, it makes sense to find out whether the fixation duration and the number of fixations per trial is also normally distributed. This can be done with a Q-Q-Plot, which  is a graphical technique for determining if two data sets come from populations with a common distribution, in this case a normal distribution (for more information, klick [here](https://www.itl.nist.gov/div898/handbook/eda/section3/eda33o.htm)).\n",
    "- make a Q-Q plot of the variable *fixation duration*. Is it approximately normally distributed?\n",
    "- make a Q-Q plot of the variable *# fixation per trial*. Is it approximately normally distributed?"
   ]
  },
  {
   "cell_type": "code",
   "execution_count": 9,
   "metadata": {},
   "outputs": [
    {
     "data": {
      "image/png": "[encoded data removed]",
      "text/plain": [
       "<Figure size 1080x576 with 4 Axes>"
      ]
     },
     "metadata": {},
     "output_type": "display_data"
    }
   ],
   "source": [
    "# set the stage for 4 plots\n",
    "fig, axes = plt.subplots(nrows=2, ncols=2, figsize=(15,8))\n",
    "\n",
    "# I already calculated dataseries for fixation duration and number\n",
    "# but for the sake of code readability I add these two lines here\n",
    "fix_dur = df_clean.duration\n",
    "fix_num = df_clean.groupby(['sub_trial']).fix.count()\n",
    "\n",
    "\n",
    "# check the distributions using histograms\n",
    "axes[0,0].hist(fix_dur, bins=200)\n",
    "axes[0,1].hist(fix_num, bins=25)\n",
    "\n",
    "\n",
    "# draw Q-Q plot for the fixation durations and the number of fixation points\n",
    "prob = sm.ProbPlot(fix_dur, dist='norm')\n",
    "prob.qqplot(line='r', ax=axes[1,0])\n",
    "\n",
    "prob = sm.ProbPlot(fix_num, dist='norm')\n",
    "prob.qqplot(line='r', ax=axes[1,1])\n",
    "\n",
    "\n",
    "# set the labels and tickbars\n",
    "axes[0,0].set_xlabel('Fixation Duration (ms)')\n",
    "axes[0,0].xaxis.set_label_position('top')\n",
    "axes[0,0].set_ylabel('Frequency')\n",
    "axes[0,1].set_xlabel('Fixation Point (#)')\n",
    "axes[0,1].xaxis.set_label_position('top')\n",
    "axes[0,1].set_ylabel('Histogram', labelpad=14)\n",
    "axes[0,1].yaxis.set_label_position('right')\n",
    "axes[0,1].yaxis.label.set_rotation(-90)\n",
    "axes[1,1].set_ylabel('Q-Q Plot', labelpad=14)\n",
    "axes[1,1].yaxis.set_label_position('right')\n",
    "axes[1,1].yaxis.label.set_rotation(-90);"
   ]
  },
  {
   "cell_type": "markdown",
   "metadata": {},
   "source": [
    "what do you think?"
   ]
  },
  {
   "cell_type": "markdown",
   "metadata": {},
   "source": [
    "**What do you mean what I think? I think even numbers are nice while odd numbers are vicious. I also think 'N' and 'M' are a couple; N is the woman and she is a shrew, while M is a humble and shy man.**\n",
    "\n",
    "**Please be specific about your questions!**\n",
    "\n",
    "**Anyway, as we can see our distributions are normal, though roughly. And the problem is more acute in the case of fixation duration distribution.**\n",
    "**But as Robert Geary once said: 'Normality is a myth; there never was, and never will be, a normal distribution.' So unlike my teammates, I still feel like these two distributions are real-life normals. Especially if we consider that their biggest probelm for being considered normal is their cut tails, which were in fact cut by ourselves. Remember when we were cleaning data for duration values not in the range of 100-400 ms, right? What will stop us from assuming that we actually had some truthful measurements of under 100 and over 400 ms? But then we filter them out, as noise.**\n",
    "\n",
    "**So... yup, normal, cool!**\n"
   ]
  },
  {
   "cell_type": "markdown",
   "metadata": {},
   "source": [
    "****"
   ]
  },
  {
   "cell_type": "markdown",
   "metadata": {},
   "source": [
    "## Assignment 2: Hypothesis testing [3 pts]"
   ]
  },
  {
   "cell_type": "markdown",
   "metadata": {},
   "source": [
    "### a) one way ANOVA [3 pts]\n",
    "Now it's time to really prove our intuition. Test the following null hypotheses:  \n",
    "$H01$: There is no difference in fixation duration across 4 different categories.  \n",
    "$H02$: There is no difference in the number of fixations across 4 different categories.\n",
    "\n",
    "What do you find?"
   ]
  },
  {
   "cell_type": "code",
   "execution_count": 10,
   "metadata": {},
   "outputs": [
    {
     "name": "stdout",
     "output_type": "stream",
     "text": [
      "One-way ANOVA for testing how fixation duration is affected by category:\n",
      "\n",
      "                    df        sum_sq       mean_sq           F         PR(>F)\n",
      "category_str       3.0  6.918205e+06  2.306068e+06  431.192133  5.622037e-279\n",
      "Residual      151797.0  8.118290e+08  5.348123e+03         NaN            NaN\n"
     ]
    }
   ],
   "source": [
    "# H01\n",
    "# Outcome: fixation duration\n",
    "# Predictor: category\n",
    "\n",
    "# create an OLS model between categories and duration\n",
    "model = ols('duration ~ category_str', data=df_clean).fit()\n",
    "\n",
    "# calculate one-way ANOVA for the null hypothesis: H01\n",
    "table = anova_lm(model, typ=1)\n",
    "print('One-way ANOVA for testing how fixation duration is affected by category:\\n')\n",
    "print(table)"
   ]
  },
  {
   "cell_type": "code",
   "execution_count": 11,
   "metadata": {},
   "outputs": [
    {
     "name": "stdout",
     "output_type": "stream",
     "text": [
      "One-way ANOVA for testing how the number of fixation points is affected by category:\n",
      "\n",
      "                   df         sum_sq       mean_sq           F  PR(>F)\n",
      "category_str      3.0   44079.250345  14693.083448  719.753527     0.0\n",
      "Residual      12090.0  246805.847141     20.414049         NaN     NaN\n"
     ]
    }
   ],
   "source": [
    "# H02\n",
    "# Outcome: number of fixation points\n",
    "# Predictor: category\n",
    "\n",
    "# create the required dataframe with a column for the number of fixation per sub-trial\n",
    "fix_num = df_clean.groupby(['category_str', 'sub_trial']).fix.count().reset_index()\n",
    "\n",
    "# create an OLS model between categories and duration\n",
    "model = ols('fix ~ category_str', data=fix_num).fit()\n",
    "\n",
    "# calculate one-way ANOVA for the null hypothesis: H02\n",
    "table = anova_lm(model, typ=1)\n",
    "print('One-way ANOVA for testing how the number of fixation points is affected by category:\\n')\n",
    "print(table)"
   ]
  },
  {
   "cell_type": "markdown",
   "metadata": {},
   "source": [
    "what do you say?"
   ]
  },
  {
   "cell_type": "markdown",
   "metadata": {},
   "source": [
    "**Considering the p-values, which are almost zero, we can assume that outcome is significantly predictable by the independent variables in both case. So we can reject both null hypothese.**\n",
    "\n",
    "**But I have a problem here. When we are comparing different categories distribution with one outcome or 'dependent' variable, should not we first check the normality of distribution for each of categories, rather than overall categories?**\n",
    "\n",
    "**I also have another question; why when I use the column 'category' instead of 'category_str' (that is, using the labels 7, 8, 10, & 11 instead of 'Natural,' 'Urban,' 'Pink-noise,' & 'fractals' the degree of freedon reduces to 1, like we have only 2 categories?**"
   ]
  },
  {
   "cell_type": "markdown",
   "metadata": {},
   "source": [
    "****"
   ]
  },
  {
   "cell_type": "markdown",
   "metadata": {},
   "source": [
    "## Assignment 3: Binning [4 pts]"
   ]
  },
  {
   "cell_type": "markdown",
   "metadata": {},
   "source": [
    "### a) distribution of # fixation [2 pts]\n",
    "Now we would like to know if there's a difference in terms of fixation numbers at different time segment.\n",
    "- make a histogram with x axis being the start time of fixation\n",
    "- the bin size should be 1 sec. In total there would be 6 bins.\n",
    "- average over all subjects and images, just make a one simple plot\n",
    "- figure out mean fixation duration for each bin and print it\n"
   ]
  },
  {
   "cell_type": "markdown",
   "metadata": {},
   "source": [
    "### On Binning"
   ]
  },
  {
   "cell_type": "markdown",
   "metadata": {},
   "source": [
    "**As my teammate explained it clearly we should not use 1-sec bins, cause during data pre-processing based on the essential features of data (like considering a fixed range for fixation duration or the 6-sec time of the observation) the latest possible fixation starting-time that we could theoretically have in our data samples is the one that starts at 5900. So the correct range for binning is from 0 to 5900. So we could either not take the last bin into account or divide the available range into approximation of 1000 ms, like 1180 (so again 5 bins). Since the accuracy of time measurement is 1 ms, so we cannot use bins with smaller fractions of time. So i guess the only thing left to do is to use 5 bins, either by ignoring the last 1-sec or by using 1180-ms bin width.**\n",
    "\n",
    "**I decided to go with ignoring the last bin. Cause for this left-bias check, we are mainly focused on the first bins and earlier fixations, rather than latest ones.**\n",
    "\n",
    "**But wait a minute!**\n",
    "**Asume we have fewer data points in the last bin, which is the case for sure, but then so what?**\n",
    "**It does not affect the average duration of that few remained fixations and their x-values!**\n",
    "**The only thing that this affect is the frequency of datapoints in the last bin, so just the histogram, and nothing else. Right?**"
   ]
  },
  {
   "cell_type": "code",
   "execution_count": 144,
   "metadata": {},
   "outputs": [
    {
     "name": "stdout",
     "output_type": "stream",
     "text": [
      "\n",
      "\n",
      "\u001b[1m\u001b[91mATTENTION: THE RESULTS FOR THE LAST BIN IS ERRONEOUS AND SHOULD BE IGNORED AS IT WAS EXPLAINED IN THE PREVIOUS CELL.\n",
      " \u001b[0m\n",
      "\n",
      "The average fixation duration for each bin:\n",
      "\n",
      "bin\n",
      "0    232.820251\n",
      "1    242.930771\n",
      "2    242.886093\n",
      "3    243.198181\n",
      "4    243.334625\n",
      "5    236.727753\n",
      "Name: duration, dtype: float32\n"
     ]
    },
    {
     "data": {
      "image/png": "[encoded data removed]",
      "text/plain": [
       "<Figure size 432x288 with 1 Axes>"
      ]
     },
     "metadata": {},
     "output_type": "display_data"
    }
   ],
   "source": [
    "# Histogram\n",
    "# ------------------\n",
    "# plot the histogram\n",
    "# plt.figure(figsize=(8,8))\n",
    "plt.hist(df_clean.start, bins=[0, 1000, 2000, 3000, 4000, 5000, 6000])\n",
    "\n",
    "# do the dirty works\n",
    "plt.title('The Distribution of Starting Time of the Fixtations')\n",
    "plt.grid(alpha=0.75)\n",
    "plt.xlabel('Fixation Starting Time (ms)')\n",
    "plt.ylabel('Frequency');\n",
    "\n",
    "\n",
    "\n",
    "# Average Fixation Duration\n",
    "# -------------------------\n",
    "# add a column bin to our dataframe\n",
    "df_clean['bin'] = np.floor(df_clean.start / 1000).apply(lambda x: int(x))\n",
    "\n",
    "# calculate the mean duration for each bin\n",
    "bin_fix_avg = df_clean.groupby(['bin']).duration.mean()\n",
    "\n",
    "# and print them out\n",
    "print('\\n\\n' + '\\033[1m' + '\\033[91m' + 'ATTENTION: THE RESULTS FOR THE LAST BIN IS',\n",
    "      'ERRONEOUS AND SHOULD BE IGNORED AS IT WAS EXPLAINED IN THE PREVIOUS CELL.\\n','\\033[0m')\n",
    "\n",
    "print('\\nThe average fixation duration for each bin:\\n')\n",
    "print(bin_fix_avg)\n"
   ]
  },
  {
   "cell_type": "markdown",
   "metadata": {},
   "source": [
    "### b) leftward bias [2 pts]\n",
    "If you took Action & Cognition I, you have probably heard about the leftward bias in human's fixation behavior. It is known that people tend to look more at the left visual field for the initial first second. Check whether this holds for our dataset as well.\n",
    "- make a pointplot with x-axis as the x-coordinate of each fixation point and y-axis as the time bin to which the fixation point belongs to.\n",
    "- mark the confidence interval around each point.\n",
    "- make a vertical line at middle point of the x values. The x-coordinate of the fixation point in the data is based on the coordinate system using the display resolution. You can find out the information about display resolution by taking a look at the meta data."
   ]
  },
  {
   "cell_type": "code",
   "execution_count": 136,
   "metadata": {},
   "outputs": [
    {
     "data": {
      "image/png": "[encoded data removed]",
      "text/plain": [
       "<Figure size 432x288 with 1 Axes>"
      ]
     },
     "metadata": {},
     "output_type": "display_data"
    }
   ],
   "source": [
    "# save the x-values in a list of dataSeries\n",
    "# add a new column with categories labels\n",
    "\n",
    "# make the bin column categorical for the pointplot\n",
    "df_clean['bin'] = df_clean['bin'].astype('category')\n",
    "\n",
    "# plot the data\n",
    "# plt.figure(figsize=(8,8))\n",
    "sns.pointplot(x ='x', y='bin', order=[5,4,3,2,1,0], data=df_clean, join=False, ci='sd')\n",
    "\n",
    "# and the dirty adornment job for the plot\n",
    "plt.title('The Distribution of X-Values of the Fixtation Points')\n",
    "plt.xlabel('X Positional Value of Fixation Point')\n",
    "plt.xlim([0,1280]) # using meta data about the images width (1280)\n",
    "plt.ylabel('Bin')\n",
    "\n",
    "\n",
    "# and draw a vertical line representing the center of the images at x-axis\n",
    "# using the meta data on the image width (1280)\n",
    "plt.axvline(x=640, color='g', linestyle=':', alpha=.4);\n"
   ]
  },
  {
   "cell_type": "markdown",
   "metadata": {},
   "source": [
    "## Assignment 4: Heatmap [4 pts]\n",
    "Now let's use heatmap to visualize which part of pictures is fixated for how long. It would be also good to know if there's a difference between categories.\n",
    "- make a heatmap for data consisting of each categories and then averaged across all data.\n",
    "- mark a central point in the plot.\n",
    "- you can use ```numpy.histogram2d``` to compute a bi-dimensional histogram.\n",
    "- then you can use ```pyplot.imshow``` to plot these histogram.\n",
    "- don't forget to use the parameter ```extent``` to control for the bounding box to which the image should fit in.\n",
    "- if you want to use other functions that's surely fine as well."
   ]
  },
  {
   "cell_type": "code",
   "execution_count": 14,
   "metadata": {},
   "outputs": [],
   "source": [
    "# TODO"
   ]
  },
  {
   "cell_type": "markdown",
   "metadata": {},
   "source": [
    "## Assignment 5: Scanpath [5 pts]\n",
    "We want to know whether different scan behaviour is used when viewing images of different categories. Scanpath is a path followed by the eyes when viewing a stimulus. Scanpaths are useful for analyzing cognitive intent, interest, and salience. It has an advantage to a heatmap because the information about temporal structure of viewing behaviour can be plotted.\n",
    "- make four plots, one for each category.\n",
    "- randomely choose one trial for which you will plot a scanpath.\n",
    "- mark fixation points based on the x-y coordinates.\n",
    "- plot the *saccade path* from one fixation point to another one.\n",
    "- make sure that the order of fixation can be read out from the plot. E.g. earlier fixations could have a light color whereas later fixations could have dark colors.\n",
    "- also include information about the duration of each fixation. One way to do it is the use the size of the fixation marker.\n",
    "- plot the background image superimposed with the scanpath. "
   ]
  },
  {
   "cell_type": "code",
   "execution_count": null,
   "metadata": {},
   "outputs": [],
   "source": []
  },
  {
   "cell_type": "code",
   "execution_count": 15,
   "metadata": {},
   "outputs": [],
   "source": [
    "# make 4 subplots and a title\n",
    "#figs, axes = plt.subplots(nrows=2, ncols=2, figsize=(13,10))\n",
    "#figs.suptitle('Scanpath for Different Categories', fontsize=24)\n",
    "\n",
    "\n",
    "def draw_scanpath(category, fixations, saccades, dispsize, imagefile=None, alpha=0.5, savefilename=None):\n",
    "\n",
    "    \"\"\"Draws a scanpath: a series of arrows between numbered fixations,\n",
    "    optionally drawn over an image\n",
    "    arguments\n",
    "\n",
    "    fixations       -   a list of fixation ending events from a single trial,\n",
    "                    as produced by edfreader.read_edf, e.g.\n",
    "                    edfdata[trialnr]['events']['Efix']\n",
    "    saccades        -   a list of saccade ending events from a single trial,\n",
    "                    as produced by edfreader.read_edf, e.g.\n",
    "                    edfdata[trialnr]['events']['Esac']\n",
    "    dispsize        -   tuple or list indicating the size of the display,\n",
    "                    e.g. (1024,768)\n",
    "\n",
    "    keyword arguments\n",
    "\n",
    "    imagefile  -    full path to an image file over which the heatmap\n",
    "                    is to be laid, or None for no image; NOTE: the image\n",
    "                    may be smaller than the display size, the function\n",
    "                    assumes that the image was presented at the centre of\n",
    "                    the display (default = None)\n",
    "    alpha       -   float between 0 and 1, indicating the transparancy of\n",
    "                    the heatmap, where 0 is completely transparant and 1\n",
    "                    is completely untransparant (default = 0.5)\n",
    "    savefilename    -    full path to the file in which the heatmap should be\n",
    "                    saved, or None to not save the file (default = None)\n",
    "\n",
    "    returns\n",
    "\n",
    "    fig         -   a matplotlib.pyplot Figure instance, containing the\n",
    "                    heatmap\n",
    "    \"\"\"\n",
    "    \n",
    "    random_filenumber = random.choice(np.arange(1,64))\n",
    "    imagefile = str('datas/' + str(category) + '/' + str(filenumber) + '.png')\n",
    "    random_subject = random.choice(np.arange(1,85))\n",
    "\n",
    "    \n",
    "    # image\n",
    "    fig, ax = draw_display(dispsize, imagefile=imagefile)\n",
    "\n",
    "    # FIXATIONS\n",
    "    # parse fixations\n",
    "    fix = parse_fixations(fixations)\n",
    "    # draw fixations\n",
    "    ax.scatter(fix['x'],fix['y'], s=fix['dur'], c=COLS['chameleon'][2], marker='o', cmap='jet', alpha=alpha, edgecolors='none')\n",
    "    # draw annotations (fixation numbers)\n",
    "    for i in range(len(fixations)):\n",
    "        ax.annotate(str(i+1), (fix['x'][i],fix['y'][i]), color=COLS['aluminium'][5], alpha=1, horizontalalignment='center', verticalalignment='center', multialignment='center')\n",
    "\n",
    "    # SACCADES\n",
    "    if saccades:\n",
    "        # loop through all saccades\n",
    "        for st, et, dur, sx, sy, ex, ey in saccades:\n",
    "            # draw an arrow between every saccade start and ending\n",
    "            ax.arrow(sx, sy, ex-sx, ey-sy, alpha=alpha, fc=COLS['aluminium'][0], ec=COLS['aluminium'][5], fill=True, shape='full', width=10, head_width=20, head_starts_at_zero=False, overhang=0)\n",
    "\n",
    "    # invert the y axis, as (0,0) is top left on a display\n",
    "    ax.invert_yaxis()\n",
    "    # save the figure if a file name was provided\n",
    "    if savefilename != None:\n",
    "        fig.savefig(savefilename)\n",
    "\n",
    "    return fig\n",
    "\n",
    "def parse_fixations(fixations):\n",
    "\n",
    "    \"\"\"Returns all relevant data from a list of fixation ending events\n",
    "\n",
    "    arguments\n",
    "\n",
    "    fixations   -   a list of fixation ending events from a single trial,\n",
    "                    as produced by edfreader.read_edf, e.g.\n",
    "                    edfdata[trialnr]['events']['Efix']\n",
    "    returns\n",
    "\n",
    "    fix    -    a dict with three keys: 'x', 'y', and 'dur' (each contain\n",
    "                a numpy array) for the x and y coordinates and duration of\n",
    "                each fixation\n",
    "    \"\"\"\n",
    "\n",
    "    # empty arrays to contain fixation coordinates\n",
    "    fix = {\t'x':numpy.zeros(len(fixations)),\n",
    "            'y':numpy.zeros(len(fixations)),\n",
    "            'dur':numpy.zeros(len(fixations))}\n",
    "    # get all fixation coordinates\n",
    "    for fixnr in range(len( fixations)):\n",
    "        stime, etime, dur, ex, ey = fixations[fixnr]\n",
    "        fix['x'][fixnr] = ex\n",
    "        fix['y'][fixnr] = ey\n",
    "        fix['dur'][fixnr] = dur\n",
    "\n",
    "    return fix\n",
    "\n",
    "def draw_display(dispsize, imagefile=None):\n",
    "\n",
    "    \"\"\"Returns a matplotlib.pyplot Figure and its axes, with a size of\n",
    "    dispsize, a black background colour, and optionally with an image drawn\n",
    "    onto it\n",
    "\n",
    "    arguments\n",
    "\n",
    "    dispsize        -   tuple or list indicating the size of the display,\n",
    "                    e.g. (1024,768)\n",
    "    \n",
    "    keyword arguments\n",
    "    \n",
    "    imagefile       -   full path to an image file over which the heatmap\n",
    "                    is to be laid, or None for no image; NOTE: the image\n",
    "                    may be smaller than the display size, the function\n",
    "                    assumes that the image was presented at the centre of\n",
    "                    the display (default = None)\n",
    "    \n",
    "    returns\n",
    "    fig, ax     -   matplotlib.pyplot Figure and its axes: field of zeros\n",
    "                    with a size of dispsize, and an image drawn onto it\n",
    "                    if an imagefile was passed\n",
    "    \"\"\"\n",
    "\n",
    "    # construct screen (black background)\n",
    "    screen = numpy.zeros((dispsize[1],dispsize[0],3), dtype='uint8')\n",
    "    # if an image location has been passed, draw the image\n",
    "    if imagefile != None:\n",
    "        # check if the path to the image exists\n",
    "        if not os.path.isfile(imagefile):\n",
    "            raise Exception(\"ERROR in draw_display: imagefile not found at '%s'\" % imagefile)\n",
    "        # load image\n",
    "        img = image.imread(imagefile)\n",
    "        # flip image over the horizontal axis\n",
    "        # (do not do so on Windows, as the image appears to be loaded with\n",
    "        # the correct side up there; what's up with that? :/)\n",
    "        if not os.name == 'nt':\n",
    "            img = numpy.flipud(img)\n",
    "        # width and height of the image\n",
    "        w, h = len(img[0]), len(img)\n",
    "        # x and y position of the image on the display\n",
    "        x = dispsize[0]/2 - w/2\n",
    "        y = dispsize[1]/2 - h/2\n",
    "        # draw the image on the screen\n",
    "        screen[y:y+h,x:x+w,:] += img\n",
    "    # dots per inch\n",
    "    dpi = 100.0\n",
    "    # determine the figure size in inches\n",
    "    figsize = (dispsize[0]/dpi, dispsize[1]/dpi)\n",
    "    # create a figure\n",
    "    fig = pyplot.figure(figsize=figsize, dpi=dpi, frameon=False)\n",
    "    ax = pyplot.Axes(fig, [0,0,1,1])\n",
    "    ax.set_axis_off()\n",
    "    fig.add_axes(ax)\n",
    "    # plot display\n",
    "    ax.axis([0,dispsize[0],0,dispsize[1]])\n",
    "    ax.imshow(screen)#, origin='upper')\n",
    "\n",
    "    return fig, ax"
   ]
  },
  {
   "cell_type": "markdown",
   "metadata": {},
   "source": [
    "# Citation\n",
    "Wilming N, Onat S, Ossandón J, Acik A, Kietzmann TC, Kaspar K, Gameiro RR, Vormberg A, König P (2017) An extensive dataset of eye movements during viewing of complex images. Scientific Data 4: 160126. https://doi.org/10.1038/sdata.2016.126  \n",
    "Wilming N, Onat S, Ossandón J, Acik A, Kietzmann TC, Kaspar K, Gameiro RR, Vormberg A, König P (2017) Data from: An extensive dataset of eye movements during viewing of complex images. Dryad Digital Repository. https://doi.org/10.5061/dryad.9pf75"
   ]
  }
 ],
 "metadata": {
  "kernelspec": {
   "display_name": "Python 3",
   "language": "python",
   "name": "python3"
  },
  "language_info": {
   "codemirror_mode": {
    "name": "ipython",
    "version": 3
   },
   "file_extension": ".py",
   "mimetype": "text/x-python",
   "name": "python",
   "nbconvert_exporter": "python",
   "pygments_lexer": "ipython3",
   "version": "3.6.3"
  }
 },
 "nbformat": 4,
 "nbformat_minor": 2
}
